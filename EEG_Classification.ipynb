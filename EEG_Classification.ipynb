{
  "nbformat": 4,
  "nbformat_minor": 0,
  "metadata": {
    "colab": {
      "provenance": [],
      "collapsed_sections": [
        "AtzWWpmDaFTs",
        "hFbsW0JJubEW",
        "y-PG_ZjKILTM"
      ],
      "include_colab_link": true
    },
    "kernelspec": {
      "name": "python3",
      "display_name": "Python 3"
    },
    "language_info": {
      "name": "python"
    }
  },
  "cells": [
    {
      "cell_type": "markdown",
      "metadata": {
        "id": "view-in-github",
        "colab_type": "text"
      },
      "source": [
        "<a href=\"https://colab.research.google.com/github/Bishara10/ML-Classification-model-For-EEG-Recordings/blob/main/EEG_Classification.ipynb\" target=\"_parent\"><img src=\"https://colab.research.google.com/assets/colab-badge.svg\" alt=\"Open In Colab\"/></a>"
      ]
    },
    {
      "cell_type": "markdown",
      "source": [
        "# Import Libraries and Prerequisites\n"
      ],
      "metadata": {
        "id": "AtzWWpmDaFTs"
      }
    },
    {
      "cell_type": "code",
      "source": [
        "!git clone https://github.com/BPy5/ML-Classification-model-For-EEG-Recordings.git"
      ],
      "metadata": {
        "colab": {
          "base_uri": "https://localhost:8080/"
        },
        "id": "Bg0qfQlM76lo",
        "outputId": "57441956-bd72-4d4f-b385-f0ee9c685642"
      },
      "execution_count": 2,
      "outputs": [
        {
          "output_type": "stream",
          "name": "stdout",
          "text": [
            "Cloning into 'ML-Classification-model-For-EEG-Recordings'...\n",
            "remote: Enumerating objects: 298, done.\u001b[K\n",
            "remote: Counting objects: 100% (42/42), done.\u001b[K\n",
            "remote: Compressing objects: 100% (41/41), done.\u001b[K\n",
            "remote: Total 298 (delta 17), reused 2 (delta 0), pack-reused 256\u001b[K\n",
            "Receiving objects: 100% (298/298), 72.74 MiB | 9.17 MiB/s, done.\n",
            "Resolving deltas: 100% (17/17), done.\n",
            "Updating files: 100% (247/247), done.\n"
          ]
        }
      ]
    },
    {
      "cell_type": "code",
      "execution_count": 3,
      "metadata": {
        "id": "alzsODU3ZAxk"
      },
      "outputs": [],
      "source": [
        "import os\n",
        "import numpy as np\n",
        "import pandas as pd\n",
        "\n",
        "from sklearn import datasets, svm\n",
        "from sklearn.model_selection import train_test_split\n",
        "import scipy.signal\n",
        "from scipy.signal import resample, spectrogram, butter, filtfilt\n",
        "\n",
        "import tensorflow as tf\n",
        "\n",
        "\n",
        "%matplotlib notebook\n",
        "%matplotlib inline\n"
      ]
    },
    {
      "cell_type": "markdown",
      "source": [
        "# Preprocess dataset"
      ],
      "metadata": {
        "id": "MViuh-4rcuPx"
      }
    },
    {
      "cell_type": "markdown",
      "source": [
        "### Load Data"
      ],
      "metadata": {
        "id": "Gv7CDSOatgAO"
      }
    },
    {
      "cell_type": "code",
      "source": [
        "file_names_adhd_dataset = ['v8p.csv', 'v35p.csv', 'v37p.csv', 'v36p.csv', 'v38p.csv', 'v6p.csv', 'v40p.csv', 'v39p.csv', 'v3p.csv', 'v29p.csv', 'v30p.csv', 'v31p.csv', 'v28p.csv', 'v279.csv', 'v33p.csv', 'v25p.csv', 'v286.csv', 'v250.csv', 'v24p.csv', 'v246.csv', 'v263.csv', 'v27p.csv', 'v254.csv', 'v284.csv', 'v238.csv', 'v265.csv', 'v227.csv', 'v215.csv', 'v236.csv', 'v22p.csv', 'v21p.csv', 'v231.csv', 'v244.csv', 'v213.csv', 'v274.csv', 'v200.csv', 'v206.csv', 'v19p.csv', 'v173.csv', 'v270.csv', 'v234.csv', 'v179.csv', 'v181.csv', 'v18p.csv', 'v14p.csv', 'v196.csv', 'v209.csv', 'v183.csv', 'v12p.csv', 'v219.csv', 'v15p.csv', 'v20p.csv', 'v198.csv', 'v190.csv', 'v1p.csv', 'v32p.csv', 'v177.csv', 'v10p.csv', 'v34p.csv', 'v288.csv', 'v204.csv']\n",
        "# print(len(file_names_adhd_dataset))\n",
        "file_names_control_dataset = ['v51p.csv', 'v59p.csv', 'v304.csv', 'v45p.csv', 'v54p.csv', 'v58p.csv', 'v53p.csv', 'v60p.csv', 'v56p.csv', 'v46p.csv', 'v308.csv', 'v42p.csv', 'v43p.csv', 'v306.csv', 'v48p.csv', 'v50p.csv', 'v52p.csv', 'v302.csv', 'v44p.csv', 'v47p.csv', 'v307.csv', 'v57p.csv', 'v303.csv', 'v127.csv', 'v134.csv', 'v121.csv', 'v299.csv', 'v151.csv', 'v116.csv', 'v125.csv', 'v133.csv', 'v300.csv', 'v147.csv', 'v298.csv', 'v113.csv', 'v118.csv', 'v117.csv', 'v120.csv', 'v111.csv', 'v107.csv', 'v114.csv', 'v108.csv', 'v115.csv', 'v305.csv', 'v140.csv', 'v149.csv', 'v309.csv', 'v123.csv', 'v138.csv', 'v112.csv', 'v41p.csv', 'v129.csv', 'v143.csv', 'v310.csv', 'v131.csv', 'v297.csv', 'v109.csv', 'v49p.csv', 'v55p.csv', 'v110.csv']\n",
        "# print(len(file_names_control_dataset))\n",
        "\n",
        "pathControl = '/content/ML-Classification-model-For-EEG-Recordings/Dataset/CSV/controlcsv/'\n",
        "pathADHD = '/content/ML-Classification-model-For-EEG-Recordings/Dataset/CSV/adhdcsv/'\n",
        "outputPath = '/content/preprocessed_dataset/'"
      ],
      "metadata": {
        "id": "CTa5mnZ5aOA4"
      },
      "execution_count": 17,
      "outputs": []
    },
    {
      "cell_type": "markdown",
      "source": [
        "### Functions for preprocessing\n",
        "Downsampling: to redude the number of samples in the given data.\n",
        "BandPassFilter to filter signal noise.\n",
        "Preprocess_file: preprocesses a single file.\n",
        "Preprocess_group: preprocess and save all files to a corresponding group folder."
      ],
      "metadata": {
        "id": "nJkipaRS01Sl"
      }
    },
    {
      "cell_type": "code",
      "source": [
        "# Preprocessed dataset\n",
        "dataADHD = []\n",
        "dataControl = []\n",
        "\n",
        "# parameters for bandpass filter\n",
        "lowcut = 10.0\n",
        "highcut = 40.0\n",
        "\n",
        "# Set parameters for Spectrogram\n",
        "original_fs = 128  # Sampling frequency in Hz\n",
        "target_fs = 64  # Target sampling frequency in Hz\n",
        "nperseg = 128  # Number of samples per segment\n",
        "noverlap = 64  # Number of overlapping samples (typically half of nperseg)"
      ],
      "metadata": {
        "id": "uYC7QbosZJLz"
      },
      "execution_count": 41,
      "outputs": []
    },
    {
      "cell_type": "code",
      "source": [
        "# filter channel and reduce noise.\n",
        "def bandPassFilter(signal):\n",
        "    fs = 4000.0\n",
        "\n",
        "    nyq = 0.5 * fs\n",
        "    low = lowcut / nyq\n",
        "    high = highcut / nyq\n",
        "\n",
        "    order = 2\n",
        "    b, a = scipy.signal.butter(order, [low, high], 'bandpass', analog=False)\n",
        "    y = scipy.signal.filtfilt(b, a, signal, axis=0)\n",
        "\n",
        "    return y"
      ],
      "metadata": {
        "id": "T3eu2noOPBcu"
      },
      "execution_count": 20,
      "outputs": []
    },
    {
      "cell_type": "code",
      "source": [
        "# Function to downsample the signal\n",
        "def downsample_signal(signal, original_fs, target_fs):\n",
        "    num_samples = int(len(signal) * target_fs / original_fs)\n",
        "    return resample(signal, num_samples)"
      ],
      "metadata": {
        "id": "e4f8KLBuve_H"
      },
      "execution_count": 21,
      "outputs": []
    },
    {
      "cell_type": "code",
      "source": [
        "# Preprocessing for an entire recording for a patient\n",
        "def preprocess_file(input_file, group_category, max_time_bins):\n",
        "  df = pd.read_csv(input_file)\n",
        "  spectrograms = []\n",
        "\n",
        "  for column in df.columns:\n",
        "    #apply band pass filtering\n",
        "    df[column] = bandPassFilter(df[column])\n",
        "\n",
        "    #apply spectrogram to each channel after it was band-pass filtered\n",
        "    t, f, spctg = spectrogram(df[column], fs=original_fs, nperseg=nperseg, noverlap=noverlap)\n",
        "\n",
        "    spectrograms.append(spctg)\n",
        "\n",
        "  spectrogram_stack = np.stack(spectrograms, axis=-1)\n",
        "  if group_category == 'ADHD':\n",
        "    dataADHD.append(spectrogram_stack)\n",
        "  elif group_category == 'CONTROL':\n",
        "    dataControl.append(spectrogram_stack)\n",
        "\n",
        "  # df.to_csv(output_file, index=False)\n",
        "  print(f\"Spectrogram stack shape: {spectrogram_stack.shape}\")"
      ],
      "metadata": {
        "id": "gkY2BCpZV_0f"
      },
      "execution_count": 37,
      "outputs": []
    },
    {
      "cell_type": "code",
      "source": [
        "# Preprocess all recordings for a specific group\n",
        "def preprocess_group(group_path, group_file_names, output_path, group_category, max_time_bins):\n",
        "  for filename in group_file_names:\n",
        "    file_name_and_path = group_path + filename;\n",
        "    preprocess_file(file_name_and_path, group_category, max_time_bins)\n",
        "  print(\"=============================== Preprocessing group successful =============================== \")"
      ],
      "metadata": {
        "id": "qGMaj1BDsMpu"
      },
      "execution_count": 35,
      "outputs": []
    },
    {
      "cell_type": "code",
      "source": [
        "# Calculate the maximum time bins across all files\n",
        "def calculate_max_time_bins(files):\n",
        "    max_time_bins = 0\n",
        "    for file in files:\n",
        "        df = pd.read_csv(file)\n",
        "        for column in df.columns:\n",
        "            signal = df[column].values\n",
        "            downsampled_signal = downsample_signal(signal, original_fs, target_fs)\n",
        "            f, t, Sxx = spectrogram(downsampled_signal, fs=target_fs, nperseg=nperseg, noverlap=noverlap)\n",
        "            max_time_bins = max(max_time_bins, Sxx.shape[1])\n",
        "    return max_time_bins\n"
      ],
      "metadata": {
        "id": "bDR9fNED_7q5"
      },
      "execution_count": 31,
      "outputs": []
    },
    {
      "cell_type": "code",
      "source": [
        "filesADHD = ['/content/ML-Classification-model-For-EEG-Recordings/Dataset/CSV/adhdcsv/' + x for x in file_names_adhd_dataset]\n",
        "filesControl = ['/content/ML-Classification-model-For-EEG-Recordings/Dataset/CSV/controlcsv/' + x for x in file_names_control_dataset]\n",
        "\n",
        "# Find max time bin\n",
        "x = calculate_max_time_bins(filesADHD)\n",
        "y = calculate_max_time_bins(filesControl)\n",
        "maxTimeBins = max(x, y)\n",
        "\n",
        "# outputPath = '/content/preprocessed_dataset/'\n",
        "# try:\n",
        "#   os.mkdir(outputPath)\n",
        "#   os.mkdir(outputPath + '/ADHD/')\n",
        "#   os.mkdir(outputPath + '/Control/')\n",
        "# except FileExistsError:\n",
        "#   print(\"Folder Already exists.\")\n",
        "\n",
        "# preprocess groups\n",
        "preprocess_group(pathADHD, file_names_adhd_dataset, outputPath + '/ADHD/', 'ADHD', maxTimeBins)\n",
        "preprocess_group(pathControl, file_names_control_dataset, outputPath + '/Control/', 'CONTROL', maxTimeBins)\n"
      ],
      "metadata": {
        "colab": {
          "base_uri": "https://localhost:8080/"
        },
        "id": "aI9CYfPIPI_j",
        "outputId": "0339e60c-0f29-4d6c-8f00-cb7a090b20e7"
      },
      "execution_count": 42,
      "outputs": [
        {
          "output_type": "stream",
          "name": "stdout",
          "text": [
            "Spectrogram stack shape: (65, 245, 19)\n",
            "Spectrogram stack shape: (65, 238, 19)\n",
            "Spectrogram stack shape: (65, 144, 19)\n",
            "Spectrogram stack shape: (65, 270, 19)\n",
            "Spectrogram stack shape: (65, 384, 19)\n",
            "Spectrogram stack shape: (65, 273, 19)\n",
            "Spectrogram stack shape: (65, 313, 19)\n",
            "Spectrogram stack shape: (65, 283, 19)\n",
            "Spectrogram stack shape: (65, 523, 19)\n",
            "Spectrogram stack shape: (65, 377, 19)\n",
            "Spectrogram stack shape: (65, 337, 19)\n",
            "Spectrogram stack shape: (65, 181, 19)\n",
            "Spectrogram stack shape: (65, 430, 19)\n",
            "Spectrogram stack shape: (65, 313, 19)\n",
            "Spectrogram stack shape: (65, 455, 19)\n",
            "Spectrogram stack shape: (65, 153, 19)\n",
            "Spectrogram stack shape: (65, 178, 19)\n",
            "Spectrogram stack shape: (65, 215, 19)\n",
            "Spectrogram stack shape: (65, 255, 19)\n",
            "Spectrogram stack shape: (65, 331, 19)\n",
            "Spectrogram stack shape: (65, 290, 19)\n",
            "Spectrogram stack shape: (65, 450, 19)\n",
            "Spectrogram stack shape: (65, 162, 19)\n",
            "Spectrogram stack shape: (65, 239, 19)\n",
            "Spectrogram stack shape: (65, 152, 19)\n",
            "Spectrogram stack shape: (65, 286, 19)\n",
            "Spectrogram stack shape: (65, 437, 19)\n",
            "Spectrogram stack shape: (65, 332, 19)\n",
            "Spectrogram stack shape: (65, 209, 19)\n",
            "Spectrogram stack shape: (65, 188, 19)\n",
            "Spectrogram stack shape: (65, 257, 19)\n",
            "Spectrogram stack shape: (65, 307, 19)\n",
            "Spectrogram stack shape: (65, 608, 19)\n",
            "Spectrogram stack shape: (65, 192, 19)\n",
            "Spectrogram stack shape: (65, 269, 19)\n",
            "Spectrogram stack shape: (65, 198, 19)\n",
            "Spectrogram stack shape: (65, 314, 19)\n",
            "Spectrogram stack shape: (65, 359, 19)\n",
            "Spectrogram stack shape: (65, 377, 19)\n",
            "Spectrogram stack shape: (65, 369, 19)\n",
            "Spectrogram stack shape: (65, 533, 19)\n",
            "Spectrogram stack shape: (65, 197, 19)\n",
            "Spectrogram stack shape: (65, 165, 19)\n",
            "Spectrogram stack shape: (65, 389, 19)\n",
            "Spectrogram stack shape: (65, 273, 19)\n",
            "Spectrogram stack shape: (65, 208, 19)\n",
            "Spectrogram stack shape: (65, 472, 19)\n",
            "Spectrogram stack shape: (65, 289, 19)\n",
            "Spectrogram stack shape: (65, 274, 19)\n",
            "Spectrogram stack shape: (65, 423, 19)\n",
            "Spectrogram stack shape: (65, 674, 19)\n",
            "Spectrogram stack shape: (65, 551, 19)\n",
            "Spectrogram stack shape: (65, 305, 19)\n",
            "Spectrogram stack shape: (65, 240, 19)\n",
            "Spectrogram stack shape: (65, 190, 19)\n",
            "Spectrogram stack shape: (65, 281, 19)\n",
            "Spectrogram stack shape: (65, 259, 19)\n",
            "Spectrogram stack shape: (65, 222, 19)\n",
            "Spectrogram stack shape: (65, 304, 19)\n",
            "Spectrogram stack shape: (65, 313, 19)\n",
            "Spectrogram stack shape: (65, 318, 19)\n",
            "=============================== Preprocessing group successful =============================== \n",
            "Spectrogram stack shape: (65, 123, 19)\n",
            "Spectrogram stack shape: (65, 257, 19)\n",
            "Spectrogram stack shape: (65, 208, 19)\n",
            "Spectrogram stack shape: (65, 168, 19)\n",
            "Spectrogram stack shape: (65, 299, 19)\n",
            "Spectrogram stack shape: (65, 216, 19)\n",
            "Spectrogram stack shape: (65, 297, 19)\n",
            "Spectrogram stack shape: (65, 201, 19)\n",
            "Spectrogram stack shape: (65, 219, 19)\n",
            "Spectrogram stack shape: (65, 152, 19)\n",
            "Spectrogram stack shape: (65, 265, 19)\n",
            "Spectrogram stack shape: (65, 260, 19)\n",
            "Spectrogram stack shape: (65, 198, 19)\n",
            "Spectrogram stack shape: (65, 284, 19)\n",
            "Spectrogram stack shape: (65, 162, 19)\n",
            "Spectrogram stack shape: (65, 252, 19)\n",
            "Spectrogram stack shape: (65, 215, 19)\n",
            "Spectrogram stack shape: (65, 277, 19)\n",
            "Spectrogram stack shape: (65, 177, 19)\n",
            "Spectrogram stack shape: (65, 168, 19)\n",
            "Spectrogram stack shape: (65, 355, 19)\n",
            "Spectrogram stack shape: (65, 228, 19)\n",
            "Spectrogram stack shape: (65, 299, 19)\n",
            "Spectrogram stack shape: (65, 229, 19)\n",
            "Spectrogram stack shape: (65, 207, 19)\n",
            "Spectrogram stack shape: (65, 254, 19)\n",
            "Spectrogram stack shape: (65, 346, 19)\n",
            "Spectrogram stack shape: (65, 325, 19)\n",
            "Spectrogram stack shape: (65, 300, 19)\n",
            "Spectrogram stack shape: (65, 239, 19)\n",
            "Spectrogram stack shape: (65, 234, 19)\n",
            "Spectrogram stack shape: (65, 405, 19)\n",
            "Spectrogram stack shape: (65, 221, 19)\n",
            "Spectrogram stack shape: (65, 276, 19)\n",
            "Spectrogram stack shape: (65, 242, 19)\n",
            "Spectrogram stack shape: (65, 186, 19)\n",
            "Spectrogram stack shape: (65, 399, 19)\n",
            "Spectrogram stack shape: (65, 187, 19)\n",
            "Spectrogram stack shape: (65, 238, 19)\n",
            "Spectrogram stack shape: (65, 308, 19)\n",
            "Spectrogram stack shape: (65, 206, 19)\n",
            "Spectrogram stack shape: (65, 296, 19)\n",
            "Spectrogram stack shape: (65, 243, 19)\n",
            "Spectrogram stack shape: (65, 347, 19)\n",
            "Spectrogram stack shape: (65, 267, 19)\n",
            "Spectrogram stack shape: (65, 266, 19)\n",
            "Spectrogram stack shape: (65, 386, 19)\n",
            "Spectrogram stack shape: (65, 226, 19)\n",
            "Spectrogram stack shape: (65, 194, 19)\n",
            "Spectrogram stack shape: (65, 248, 19)\n",
            "Spectrogram stack shape: (65, 194, 19)\n",
            "Spectrogram stack shape: (65, 174, 19)\n",
            "Spectrogram stack shape: (65, 242, 19)\n",
            "Spectrogram stack shape: (65, 277, 19)\n",
            "Spectrogram stack shape: (65, 259, 19)\n",
            "Spectrogram stack shape: (65, 213, 19)\n",
            "Spectrogram stack shape: (65, 249, 19)\n",
            "Spectrogram stack shape: (65, 261, 19)\n",
            "Spectrogram stack shape: (65, 222, 19)\n",
            "Spectrogram stack shape: (65, 257, 19)\n",
            "=============================== Preprocessing group successful =============================== \n"
          ]
        }
      ]
    },
    {
      "cell_type": "code",
      "source": [
        "len(dataADHD)"
      ],
      "metadata": {
        "colab": {
          "base_uri": "https://localhost:8080/"
        },
        "id": "ZbHhYB6QhmEu",
        "outputId": "1996d32a-6d25-4871-e96f-41c87838015a"
      },
      "execution_count": 43,
      "outputs": [
        {
          "output_type": "execute_result",
          "data": {
            "text/plain": [
              "61"
            ]
          },
          "metadata": {},
          "execution_count": 43
        }
      ]
    },
    {
      "cell_type": "code",
      "source": [
        "len(dataControl)"
      ],
      "metadata": {
        "colab": {
          "base_uri": "https://localhost:8080/"
        },
        "id": "VitoUdYYimve",
        "outputId": "2eaf8704-d9c0-408a-8d56-b6c75e323aff"
      },
      "execution_count": 44,
      "outputs": [
        {
          "output_type": "execute_result",
          "data": {
            "text/plain": [
              "60"
            ]
          },
          "metadata": {},
          "execution_count": 44
        }
      ]
    },
    {
      "cell_type": "code",
      "source": [
        "maxTimeBins"
      ],
      "metadata": {
        "colab": {
          "base_uri": "https://localhost:8080/"
        },
        "id": "Pwjmd2LsrQJz",
        "outputId": "f7c32b99-7e5e-43dd-8092-0054289f7098"
      },
      "execution_count": 46,
      "outputs": [
        {
          "output_type": "execute_result",
          "data": {
            "text/plain": [
              "336"
            ]
          },
          "metadata": {},
          "execution_count": 46
        }
      ]
    },
    {
      "cell_type": "code",
      "source": [
        "# # Just a checkup on a random file and its processed counterpart\n",
        "# df = pd.read_csv(pathADHD + file_names_adhd_dataset[6])\n",
        "# df2 = pd.read_csv(outputPath + '/ADHD/' + file_names_adhd_dataset[6])\n",
        "\n",
        "# dfControl = pd.read_csv(pathControl + file_names_control_dataset[1])\n",
        "# dfControl2 = pd.read_csv(outputPath + '/Control/' + file_names_control_dataset[1])\n",
        "\n",
        "# fig, axes = plt.subplots(nrows=4, ncols=1, figsize=(15, 10))  # Adjust the figure size as necessary\n",
        "# axes = axes.flatten()  # Flatten the 2D array of axes to simplify the iteration\n",
        "\n",
        "# df['0'].plot(ax = axes[0])\n",
        "# df2['0'].plot(ax = axes[1])\n",
        "\n",
        "# dfControl['0'].plot(ax = axes[2])\n",
        "# dfControl2['0'].plot(ax = axes[3])\n",
        "# print(len(df['1']))"
      ],
      "metadata": {
        "id": "QraCxuUyRRvr"
      },
      "execution_count": null,
      "outputs": []
    },
    {
      "cell_type": "markdown",
      "source": [
        "# Build CNN model"
      ],
      "metadata": {
        "id": "JnK1xJyUuPq8"
      }
    },
    {
      "cell_type": "markdown",
      "metadata": {
        "id": "ces1gXY2lmoX"
      },
      "source": [
        "### Initialising the CNN"
      ]
    },
    {
      "cell_type": "code",
      "metadata": {
        "id": "SAUt4UMPlhLS"
      },
      "source": [
        "cnn = tf.keras.models.Sequential()"
      ],
      "execution_count": 47,
      "outputs": []
    },
    {
      "cell_type": "markdown",
      "metadata": {
        "id": "u5YJj_XMl5LF"
      },
      "source": [
        "### Step 1 - Convolution"
      ]
    },
    {
      "cell_type": "code",
      "metadata": {
        "id": "XPzPrMckl-hV"
      },
      "source": [
        "cnn.add(tf.keras.layers.Conv2D(filters=32, kernel_size=3, activation='relu', input_shape=(65, maxTimeBins, 19)))"
      ],
      "execution_count": 49,
      "outputs": []
    },
    {
      "cell_type": "markdown",
      "metadata": {
        "id": "tf87FpvxmNOJ"
      },
      "source": [
        "### Step 2 - Pooling"
      ]
    },
    {
      "cell_type": "code",
      "metadata": {
        "id": "ncpqPl69mOac"
      },
      "source": [
        "cnn.add(tf.keras.layers.MaxPool2D(pool_size=2, strides=2))"
      ],
      "execution_count": 50,
      "outputs": []
    },
    {
      "cell_type": "markdown",
      "metadata": {
        "id": "xaTOgD8rm4mU"
      },
      "source": [
        "### Adding a second convolutional layer"
      ]
    },
    {
      "cell_type": "code",
      "metadata": {
        "id": "i_-FZjn_m8gk"
      },
      "source": [
        "cnn.add(tf.keras.layers.Conv2D(filters=32, kernel_size=3, activation='relu'))\n",
        "cnn.add(tf.keras.layers.MaxPool2D(pool_size=2, strides=2))"
      ],
      "execution_count": 51,
      "outputs": []
    },
    {
      "cell_type": "markdown",
      "metadata": {
        "id": "tmiEuvTunKfk"
      },
      "source": [
        "### Step 3 - Flattening"
      ]
    },
    {
      "cell_type": "code",
      "metadata": {
        "id": "6AZeOGCvnNZn"
      },
      "source": [
        "cnn.add(tf.keras.layers.Flatten())\n"
      ],
      "execution_count": 60,
      "outputs": []
    },
    {
      "cell_type": "markdown",
      "metadata": {
        "id": "dAoSECOm203v"
      },
      "source": [
        "### Step 4 - Full Connection"
      ]
    },
    {
      "cell_type": "code",
      "metadata": {
        "id": "8GtmUlLd26Nq"
      },
      "source": [
        "cnn.add(tf.keras.layers.Dense(units=128, activation='relu'))"
      ],
      "execution_count": 53,
      "outputs": []
    },
    {
      "cell_type": "markdown",
      "source": [
        "### Add hidden layer"
      ],
      "metadata": {
        "id": "fU9FKyT-DEkH"
      }
    },
    {
      "cell_type": "code",
      "source": [
        "cnn.add(Dense(64, activation='relu'))"
      ],
      "metadata": {
        "id": "FHL1H6StDC6Y"
      },
      "execution_count": 59,
      "outputs": []
    },
    {
      "cell_type": "markdown",
      "metadata": {
        "id": "yTldFvbX28Na"
      },
      "source": [
        "### Step 5 - Output Layer"
      ]
    },
    {
      "cell_type": "code",
      "metadata": {
        "id": "1p_Zj1Mc3Ko_"
      },
      "source": [
        "cnn.add(tf.keras.layers.Dense(units=1, activation='sigmoid'))"
      ],
      "execution_count": 54,
      "outputs": []
    },
    {
      "cell_type": "markdown",
      "source": [
        "### Step 6 - Optimize"
      ],
      "metadata": {
        "id": "X8zrDpLZDKao"
      }
    },
    {
      "cell_type": "code",
      "source": [
        "# Compile the model\n",
        "cnn.compile(optimizer='adam', loss='binary_crossentropy', metrics=['accuracy'])"
      ],
      "metadata": {
        "id": "IjysYzpBCVV4"
      },
      "execution_count": 56,
      "outputs": []
    },
    {
      "cell_type": "markdown",
      "source": [
        "# Train / Test sets split"
      ],
      "metadata": {
        "id": "5LO1BSKKuKHf"
      }
    },
    {
      "cell_type": "code",
      "source": [
        "# Convert lists to numpy arrays\n",
        "dataADHD = np.array(dataADHD)\n",
        "dataControl = np.array(dataControl)\n",
        "\n",
        "# Create labels\n",
        "labelsADHD = np.ones(len(dataADHD))\n",
        "labelsControl = np.zeros(len(dataControl))\n",
        "\n",
        "# Combine data and labels\n",
        "X = np.concatenate((dataADHD, dataControl), axis=0)\n",
        "y = np.concatenate((labelsADHD, labelsControl), axis=0)\n",
        "\n",
        "# Train the model\n",
        "model.fit(X, y, epochs=10, batch_size=32, validation_split=0.2)\n",
        "\n",
        "# Evaluate the model\n",
        "model.evaluate(X, y)\n"
      ],
      "metadata": {
        "id": "LmSV92uMAds-",
        "outputId": "818c059e-b02b-4fe3-85a3-3c6106cb2b1e",
        "colab": {
          "base_uri": "https://localhost:8080/",
          "height": 211
        }
      },
      "execution_count": 61,
      "outputs": [
        {
          "output_type": "error",
          "ename": "ValueError",
          "evalue": "setting an array element with a sequence. The requested array has an inhomogeneous shape after 2 dimensions. The detected shape was (61, 65) + inhomogeneous part.",
          "traceback": [
            "\u001b[0;31m---------------------------------------------------------------------------\u001b[0m",
            "\u001b[0;31mValueError\u001b[0m                                Traceback (most recent call last)",
            "\u001b[0;32m<ipython-input-61-7d82657c8a50>\u001b[0m in \u001b[0;36m<cell line: 2>\u001b[0;34m()\u001b[0m\n\u001b[1;32m      1\u001b[0m \u001b[0;31m# Convert lists to numpy arrays\u001b[0m\u001b[0;34m\u001b[0m\u001b[0;34m\u001b[0m\u001b[0m\n\u001b[0;32m----> 2\u001b[0;31m \u001b[0mdataADHD\u001b[0m \u001b[0;34m=\u001b[0m \u001b[0mnp\u001b[0m\u001b[0;34m.\u001b[0m\u001b[0marray\u001b[0m\u001b[0;34m(\u001b[0m\u001b[0mdataADHD\u001b[0m\u001b[0;34m)\u001b[0m\u001b[0;34m\u001b[0m\u001b[0;34m\u001b[0m\u001b[0m\n\u001b[0m\u001b[1;32m      3\u001b[0m \u001b[0mdataControl\u001b[0m \u001b[0;34m=\u001b[0m \u001b[0mnp\u001b[0m\u001b[0;34m.\u001b[0m\u001b[0marray\u001b[0m\u001b[0;34m(\u001b[0m\u001b[0mdataControl\u001b[0m\u001b[0;34m)\u001b[0m\u001b[0;34m\u001b[0m\u001b[0;34m\u001b[0m\u001b[0m\n\u001b[1;32m      4\u001b[0m \u001b[0;34m\u001b[0m\u001b[0m\n\u001b[1;32m      5\u001b[0m \u001b[0;31m# Create labels\u001b[0m\u001b[0;34m\u001b[0m\u001b[0;34m\u001b[0m\u001b[0m\n",
            "\u001b[0;31mValueError\u001b[0m: setting an array element with a sequence. The requested array has an inhomogeneous shape after 2 dimensions. The detected shape was (61, 65) + inhomogeneous part."
          ]
        }
      ]
    },
    {
      "cell_type": "markdown",
      "source": [
        "# MISC\n"
      ],
      "metadata": {
        "id": "hFbsW0JJubEW"
      }
    },
    {
      "cell_type": "code",
      "source": [
        "# Read the CSV file as a NumPy array\n",
        "x = pathADHD1\n",
        "data = np.loadtxt(x, delimiter=',')\n",
        "\n",
        "# Some `information about the channels\n",
        "onedata = df['0'].values.tolist()\n",
        "\n",
        "for i in range(0, len(onedata)):\n",
        "  onedata[i] = str(onedata[i])\n",
        "onedata.append('0')\n",
        "\n",
        "ch_names = onedata # TODO: finish this list\n",
        "\n",
        "# Sampling rate of the Nautilus machine\n",
        "sfreq = 128  # Hz\n",
        "\n",
        "# Create the info structure needed by MNE\n",
        "info = mne.create_info(ch_names, sfreq)\n",
        "\n",
        "# Finally, create the Raw object\n",
        "raw = mne.io.RawArray(data, info)\n",
        "\n",
        "# Plot it!\n",
        "raw.plot()"
      ],
      "metadata": {
        "id": "G5MaAaZO8N7-"
      },
      "execution_count": null,
      "outputs": []
    },
    {
      "source": [
        "fig, axes = plt.subplots(nrows=2, ncols=1, figsize=(15, 10))\n",
        "axes = axes.flatten()\n",
        "df['2'].plot(kind='line', figsize=(8, 4), title='adhd', ax=axes[0])\n",
        "df2['2'].plot(kind='line', figsize=(8, 4), title='control', ax=axes[1])\n",
        "plt.gca().spines[['top', 'right']].set_visible(False)\n",
        "# plt.xlim([0,3000])\n",
        "plt.tight_layout()\n",
        "plt.show()\n"
      ],
      "cell_type": "code",
      "metadata": {
        "id": "kx1V-Li9nYH2"
      },
      "execution_count": null,
      "outputs": []
    },
    {
      "cell_type": "markdown",
      "source": [
        "# Root mean suqare energy"
      ],
      "metadata": {
        "id": "y-PG_ZjKILTM"
      }
    },
    {
      "cell_type": "code",
      "source": [
        "#Root mean square energy\n",
        "ndarray = df['0'].to_numpy()\n",
        "RMS_music = librosa.feature.rms(y=ndarray, frame_length=128, hop_length=1)\n",
        "RMS_music = RMS_music[0]\n",
        "# RMS_music"
      ],
      "metadata": {
        "id": "1dfKLq6Xz22f"
      },
      "execution_count": null,
      "outputs": []
    },
    {
      "cell_type": "code",
      "source": [
        "frames = range(len(RMS_music))\n",
        "plt.plot(frames, RMS_music, color='g')\n",
        "plt.title('relaxed')\n",
        "plt.show()\n",
        "df['0'].plot()"
      ],
      "metadata": {
        "colab": {
          "base_uri": "https://localhost:8080/"
        },
        "id": "Lm-JNj6k45kS",
        "outputId": "3f0d03d7-cf6a-4174-e1c7-37c14ead8598"
      },
      "execution_count": null,
      "outputs": [
        {
          "output_type": "display_data",
          "data": {
            "text/plain": [
              "<Figure size 640x480 with 1 Axes>"
            ],
            "image/png": "[encoded data removed]"
          },
          "metadata": {}
        },
        {
          "output_type": "execute_result",
          "data": {
            "text/plain": [
              "<Axes: >"
            ]
          },
          "metadata": {},
          "execution_count": 116
        },
        {
          "output_type": "display_data",
          "data": {
            "text/plain": [
              "<Figure size 640x480 with 1 Axes>"
            ],
            "image/png": "[encoded data removed]"
          },
          "metadata": {}
        }
      ]
    }
  ]
}